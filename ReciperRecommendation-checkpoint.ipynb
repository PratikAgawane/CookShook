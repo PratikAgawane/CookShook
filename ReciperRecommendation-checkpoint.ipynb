{
 "cells": [
  {
   "cell_type": "code",
   "execution_count": 3,
   "id": "d3aab758-2b57-493c-976d-34c3595d5725",
   "metadata": {},
   "outputs": [
    {
     "name": "stdout",
     "output_type": "stream",
     "text": [
      "   Unnamed: 0                                              Title  \\\n",
      "0           0  Miso-Butter Roast Chicken With Acorn Squash Pa...   \n",
      "1           1                    Crispy Salt and Pepper Potatoes   \n",
      "2           2                        Thanksgiving Mac and Cheese   \n",
      "3           3                 Italian Sausage and Bread Stuffing   \n",
      "4           4                                       Newton's Law   \n",
      "\n",
      "                                         Ingredients  \\\n",
      "0  ['1 (3½–4-lb.) whole chicken', '2¾ tsp. kosher...   \n",
      "1  ['2 large egg whites', '1 pound new potatoes (...   \n",
      "2  ['1 cup evaporated milk', '1 cup whole milk', ...   \n",
      "3  ['1 (¾- to 1-pound) round Italian loaf, cut in...   \n",
      "4  ['1 teaspoon dark brown sugar', '1 teaspoon ho...   \n",
      "\n",
      "                                        Instructions  \\\n",
      "0  Pat chicken dry with paper towels, season all ...   \n",
      "1  Preheat oven to 400°F and line a rimmed baking...   \n",
      "2  Place a rack in middle of oven; preheat to 400...   \n",
      "3  Preheat oven to 350°F with rack in middle. Gen...   \n",
      "4  Stir together brown sugar and hot water in a c...   \n",
      "\n",
      "                                          Image_Name  \\\n",
      "0  miso-butter-roast-chicken-acorn-squash-panzanella   \n",
      "1         crispy-salt-and-pepper-potatoes-dan-kluger   \n",
      "2         thanksgiving-mac-and-cheese-erick-williams   \n",
      "3          italian-sausage-and-bread-stuffing-240559   \n",
      "4                 newtons-law-apple-bourbon-cocktail   \n",
      "\n",
      "                                 Cleaned_Ingredients  \n",
      "0  ['1 (3½–4-lb.) whole chicken', '2¾ tsp. kosher...  \n",
      "1  ['2 large egg whites', '1 pound new potatoes (...  \n",
      "2  ['1 cup evaporated milk', '1 cup whole milk', ...  \n",
      "3  ['1 (¾- to 1-pound) round Italian loaf, cut in...  \n",
      "4  ['1 teaspoon dark brown sugar', '1 teaspoon ho...  \n",
      "Index(['Unnamed: 0', 'Title', 'Ingredients', 'Instructions', 'Image_Name',\n",
      "       'Cleaned_Ingredients'],\n",
      "      dtype='object')\n"
     ]
    }
   ],
   "source": [
    "import pandas as pd\n",
    "\n",
    "# Load the dataset\n",
    "file_path = \"C:\\\\Users\\\\Acer\\\\Downloads\\\\recipes\\\\recipes_dataset.csv\"  # Adjust the path as needed\n",
    "df = pd.read_csv(file_path)\n",
    "\n",
    "# Display the first few rows to understand the data\n",
    "print(df.head())\n",
    "print(df.columns)\n"
   ]
  },
  {
   "cell_type": "code",
   "execution_count": 4,
   "id": "112f626a-be13-4c41-ac24-380543907a9d",
   "metadata": {},
   "outputs": [
    {
     "name": "stdout",
     "output_type": "stream",
     "text": [
      "                                               Title  \\\n",
      "0  Miso-Butter Roast Chicken With Acorn Squash Pa...   \n",
      "1                    Crispy Salt and Pepper Potatoes   \n",
      "2                        Thanksgiving Mac and Cheese   \n",
      "3                 Italian Sausage and Bread Stuffing   \n",
      "4                                       Newton's Law   \n",
      "\n",
      "                                         Ingredients  \\\n",
      "0  [1 (3½–4-lb.) whole chicken, 2¾ tsp. kosher sa...   \n",
      "1  [2 large egg whites, 1 pound new potatoes (abo...   \n",
      "2  [1 cup evaporated milk, 1 cup whole milk, 1 ts...   \n",
      "3  [1 (¾- to 1-pound) round Italian loaf, cut int...   \n",
      "4  [1 teaspoon dark brown sugar, 1 teaspoon hot w...   \n",
      "\n",
      "                                        Instructions  \\\n",
      "0  Pat chicken dry with paper towels, season all ...   \n",
      "1  Preheat oven to 400°F and line a rimmed baking...   \n",
      "2  Place a rack in middle of oven; preheat to 400...   \n",
      "3  Preheat oven to 350°F with rack in middle. Gen...   \n",
      "4  Stir together brown sugar and hot water in a c...   \n",
      "\n",
      "                                          Image_Name  \\\n",
      "0  miso-butter-roast-chicken-acorn-squash-panzanella   \n",
      "1         crispy-salt-and-pepper-potatoes-dan-kluger   \n",
      "2         thanksgiving-mac-and-cheese-erick-williams   \n",
      "3          italian-sausage-and-bread-stuffing-240559   \n",
      "4                 newtons-law-apple-bourbon-cocktail   \n",
      "\n",
      "                                 Cleaned_Ingredients  \n",
      "0  [1 (3½–4-lb.) whole chicken, 2¾ tsp. kosher sa...  \n",
      "1  [2 large egg whites, 1 pound new potatoes (abo...  \n",
      "2  [1 cup evaporated milk, 1 cup whole milk, 1 ts...  \n",
      "3  [1 (¾- to 1-pound) round Italian loaf, cut int...  \n",
      "4  [1 teaspoon dark brown sugar, 1 teaspoon hot w...  \n"
     ]
    }
   ],
   "source": [
    "import pandas as pd\n",
    "import ast  # For evaluating string representations of lists\n",
    "\n",
    "# Remove unnecessary columns\n",
    "df = df.drop(columns=['Unnamed: 0'])\n",
    "\n",
    "# Convert string representations of lists into actual lists\n",
    "df['Ingredients'] = df['Ingredients'].apply(ast.literal_eval)\n",
    "df['Cleaned_Ingredients'] = df['Cleaned_Ingredients'].apply(ast.literal_eval)\n",
    "\n",
    "# Display the cleaned dataframe\n",
    "print(df.head())\n"
   ]
  },
  {
   "cell_type": "code",
   "execution_count": 5,
   "id": "62d2d2bc-3764-486b-84e9-1fb4922f11c4",
   "metadata": {},
   "outputs": [
    {
     "name": "stdout",
     "output_type": "stream",
     "text": [
      "TF-IDF matrix shape: (13501, 1000)\n"
     ]
    }
   ],
   "source": [
    "from sklearn.feature_extraction.text import TfidfVectorizer\n",
    "\n",
    "# Combine ingredients into a single string for each recipe to use in TF-IDF\n",
    "df['Ingredients_Combined'] = df['Cleaned_Ingredients'].apply(lambda x: ' '.join(x))\n",
    "\n",
    "# Create TF-IDF vectorizer\n",
    "vectorizer = TfidfVectorizer(stop_words='english', max_features=1000)  # Adjust max_features as needed\n",
    "tfidf_matrix = vectorizer.fit_transform(df['Ingredients_Combined'])\n",
    "\n",
    "print(f\"TF-IDF matrix shape: {tfidf_matrix.shape}\")\n"
   ]
  },
  {
   "cell_type": "code",
   "execution_count": 20,
   "id": "33219406-8f92-461b-954a-17c41cf7a6c1",
   "metadata": {},
   "outputs": [
    {
     "name": "stdout",
     "output_type": "stream",
     "text": [
      "Recommended Recipes Based on Ingredients:\n",
      "                                                  Title  \\\n",
      "8074                    Dr. Lee's Red Wine Chicken Stew   \n",
      "2599                         Fully Salted Roast Chicken   \n",
      "1691                            Cast-Iron Roast Chicken   \n",
      "5783                       Southern-Style Fried Chicken   \n",
      "1398  Lentil and Chicken Soup with Sweet Potatoes an...   \n",
      "\n",
      "                                            Ingredients  \n",
      "8074  [1 tbsp olive oil, 2 cloves of garlic, mashed,...  \n",
      "2599             [1 (3 1/2–4-lb.) chicken, Kosher salt]  \n",
      "1691  [1 (3 1/2–4-pound) whole chicken, Kosher salt,...  \n",
      "5783  [4 skinless chicken breast halves (8 ounces ea...  \n",
      "1398  [1 cooked chicken carcass (from 1 store-bought...  \n"
     ]
    }
   ],
   "source": [
    "from sklearn.feature_extraction.text import TfidfVectorizer\n",
    "from sklearn.metrics.pairwise import cosine_similarity\n",
    "\n",
    "# Function to recommend recipes based on input ingredients\n",
    "def recommend_recipes_by_ingredients(input_ingredients, tfidf_matrix, df, vectorizer):\n",
    "    # Combine the input ingredients into a single string\n",
    "    input_combined = ' '.join(input_ingredients)\n",
    "\n",
    "    # Transform the input ingredients using the same vectorizer\n",
    "    input_vector = vectorizer.transform([input_combined])\n",
    "\n",
    "    # Compute the cosine similarity between the input vector and all recipe vectors\n",
    "    sim_scores = cosine_similarity(input_vector, tfidf_matrix).flatten()\n",
    "\n",
    "    # Get the indices of the top 5 most similar recipes\n",
    "    top_indices = sim_scores.argsort()[-5:][::-1]  # Get top 5 indices in descending order\n",
    "\n",
    "    # Return the titles and similarity scores of the top 5 similar recipes\n",
    "    recommended_recipes = df.iloc[top_indices][['Title', 'Ingredients']]\n",
    "    return recommended_recipes\n",
    "\n",
    "# Example input: User-provided ingredients\n",
    "input_ingredients = ['chicken','onion']\n",
    "\n",
    "# Get recommendations based on the input ingredients\n",
    "recommended_recipes = recommend_recipes_by_ingredients(input_ingredients, tfidf_matrix, df, vectorizer)\n",
    "\n",
    "# Display recommended recipes\n",
    "print(\"Recommended Recipes Based on Ingredients:\")\n",
    "print(recommended_recipes)\n"
   ]
  },
  {
   "cell_type": "code",
   "execution_count": 3,
   "id": "31231e82",
   "metadata": {},
   "outputs": [
    {
     "name": "stdout",
     "output_type": "stream",
     "text": [
      "Index(['Unnamed: 0', 'Title', 'Ingredients', 'Instructions', 'Image_Name',\n",
      "       'Cleaned_Ingredients'],\n",
      "      dtype='object')\n"
     ]
    }
   ],
   "source": [
    "import pandas as pd\n",
    "df = pd.read_csv('C:\\\\Users\\\\Acer\\\\CookShook\\\\archive\\\\recipes.csv')  \n",
    "print(df.columns)\n"
   ]
  }
 ],
 "metadata": {
  "kernelspec": {
   "display_name": "Python 3 (ipykernel)",
   "language": "python",
   "name": "python3"
  },
  "language_info": {
   "codemirror_mode": {
    "name": "ipython",
    "version": 3
   },
   "file_extension": ".py",
   "mimetype": "text/x-python",
   "name": "python",
   "nbconvert_exporter": "python",
   "pygments_lexer": "ipython3",
   "version": "3.10.2"
  }
 },
 "nbformat": 4,
 "nbformat_minor": 5
}
